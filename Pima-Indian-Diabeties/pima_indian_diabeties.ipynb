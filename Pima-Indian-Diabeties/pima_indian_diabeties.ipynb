{
  "nbformat": 4,
  "nbformat_minor": 0,
  "metadata": {
    "colab": {
      "name": "pima indian diabeties.ipynb",
      "provenance": [],
      "collapsed_sections": [],
      "authorship_tag": "ABX9TyOqLohdoWheAAj9eFKwr3of",
      "include_colab_link": true
    },
    "kernelspec": {
      "name": "python3",
      "display_name": "Python 3"
    }
  },
  "cells": [
    {
      "cell_type": "markdown",
      "metadata": {
        "id": "view-in-github",
        "colab_type": "text"
      },
      "source": [
        "<a href=\"https://colab.research.google.com/github/shashanks33/ML-Prac/blob/master/Pima-Indian-Diabeties/pima_indian_diabeties.ipynb\" target=\"_parent\"><img src=\"https://colab.research.google.com/assets/colab-badge.svg\" alt=\"Open In Colab\"/></a>"
      ]
    },
    {
      "cell_type": "code",
      "metadata": {
        "id": "OUY-BYSnEdWE",
        "colab_type": "code",
        "outputId": "1a74ccd0-e8c8-46ce-8221-1c89870dc98c",
        "colab": {
          "base_uri": "https://localhost:8080/",
          "height": 51
        }
      },
      "source": [
        "# A very basic model. \n",
        "# The test, train, validation data is not split in this model\n",
        "# unable to figure out the learning rate\n",
        "# Accuracy is at the average of 76.9p\n",
        "\n",
        "import numpy as np\n",
        "import pandas as pd\n",
        "import tensorflow as tf\n",
        "from tensorflow.keras import layers\n",
        "\n",
        "dataset = pd.read_csv(\"https://raw.githubusercontent.com/liquidcarrot/data.pima-indians-diabetes/master/src/raw.csv\", skiprows=1)\n",
        "\n",
        "x = dataset.iloc[0:,:8]\n",
        "y = dataset.iloc[:, -1]\n",
        "\n",
        "# print(x)\n",
        "# print(y)\n",
        "\n",
        "def create_model():\n",
        "  model = tf.keras.models.Sequential()\n",
        "  model.add(tf.keras.layers.Dense(12, input_dim=8, activation='relu'))\n",
        "  model.add(tf.keras.layers.Dense(8, activation='relu'))\n",
        "  model.add(tf.keras.layers.Dense(1, activation='sigmoid'))\n",
        "  model.compile(loss='binary_crossentropy', optimizer=tf.keras.optimizers.Adam(), metrics=['accuracy'])\n",
        "  return model\n",
        "\n",
        "print(\"model created\")\n",
        "\n",
        "# learning_rate = 10.0\n",
        "# epochs = 150\n",
        "# batch_size = 10\n",
        "\n",
        "model = create_model()\n",
        "model.fit(x, y, epochs=150, batch_size=10, verbose=0)\n",
        "loss_value, accuracy = model.evaluate(x, y, verbose=0)\n",
        "print('accuracy : %.2f'%(accuracy*100))\n",
        "\n",
        "# prediction\n",
        "predictions = model.predict(x)\n",
        "rounded = [round(x[0]) for x in predictions]"
      ],
      "execution_count": 0,
      "outputs": [
        {
          "output_type": "stream",
          "text": [
            "model created\n",
            "accuracy : 77.31\n"
          ],
          "name": "stdout"
        }
      ]
    }
  ]
}