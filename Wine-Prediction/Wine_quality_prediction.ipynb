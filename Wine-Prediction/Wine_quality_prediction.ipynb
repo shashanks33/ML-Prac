{
  "nbformat": 4,
  "nbformat_minor": 0,
  "metadata": {
    "colab": {
      "name": "Wine quality prediction.ipynb",
      "provenance": [],
      "collapsed_sections": [],
      "authorship_tag": "ABX9TyNJXI6chA/dKu18e5tte1S9",
      "include_colab_link": true
    },
    "kernelspec": {
      "name": "python3",
      "display_name": "Python 3"
    }
  },
  "cells": [
    {
      "cell_type": "markdown",
      "metadata": {
        "id": "view-in-github",
        "colab_type": "text"
      },
      "source": [
        "<a href=\"https://colab.research.google.com/github/shashanks33/ML-Prac/blob/master/Wine-Prediction/Wine_quality_prediction.ipynb\" target=\"_parent\"><img src=\"https://colab.research.google.com/assets/colab-badge.svg\" alt=\"Open In Colab\"/></a>"
      ]
    },
    {
      "cell_type": "code",
      "metadata": {
        "id": "CWF00coqoTQv",
        "colab_type": "code",
        "colab": {}
      },
      "source": [
        "import pandas as pd\n",
        "import numpy as np\n",
        "import matplotlib.pyplot as plt\n",
        "from sklearn.model_selection import train_test_split\n",
        "from sklearn import preprocessing\n",
        "import tensorflow as tf\n",
        "from tensorflow import keras"
      ],
      "execution_count": 0,
      "outputs": []
    },
    {
      "cell_type": "code",
      "metadata": {
        "id": "i6dhvplxomQH",
        "colab_type": "code",
        "colab": {}
      },
      "source": [
        "white = pd.read_csv(\"http://archive.ics.uci.edu/ml/machine-learning-databases/wine-quality/winequality-white.csv\", sep=\";\")\n",
        "red = pd.read_csv(\"http://archive.ics.uci.edu/ml/machine-learning-databases/wine-quality/winequality-red.csv\", sep=\";\")\n",
        "\n",
        "white = white.reindex(np.random.permutation(white.index))\n",
        "red = red.reindex(np.random.permutation(red.index))"
      ],
      "execution_count": 0,
      "outputs": []
    },
    {
      "cell_type": "code",
      "metadata": {
        "id": "rVwzFfbxotWB",
        "colab_type": "code",
        "outputId": "1be55236-873a-4d8b-d6f6-278f4fd17c88",
        "colab": {
          "base_uri": "https://localhost:8080/",
          "height": 344
        }
      },
      "source": [
        "# plot a histogram to show % of alcohol in both wines\n",
        "fig, ax = plt.subplots(1,2)\n",
        "ax[0].hist(red.alcohol, 10, facecolor='red', alpha=0.8, label='Red wine', ec='black', lw=0.5)\n",
        "ax[1].hist(white.alcohol, 10, facecolor='white', alpha=0.8, label='White wine', ec='black', lw=0.5)\n",
        "fig.subplots_adjust(left = 0, right = 1, bottom = 0,  \n",
        "               top = 0.7, hspace = 0.2, wspace = 1)\n",
        "\n",
        "ax[0].set_ylim([0,1000])\n",
        "ax[0].set_xlabel('Alcohol in %')\n",
        "ax[0].set_ylabel('Frequency')\n",
        "ax[1].set_ylim([0,1000])\n",
        "ax[1].set_xlabel('Alcohol in %')\n",
        "ax[1].set_ylabel('frequency')\n",
        "fig.suptitle(\"Distribution of Alcohol in % Vol\") \n",
        "plt.show()"
      ],
      "execution_count": 0,
      "outputs": [
        {
          "output_type": "display_data",
          "data": {
            "image/png": "[encoded data removed]",
            "text/plain": [
              "<Figure size 432x288 with 2 Axes>"
            ]
          },
          "metadata": {
            "tags": [],
            "needs_background": "light"
          }
        }
      ]
    },
    {
      "cell_type": "code",
      "metadata": {
        "id": "r309A2GMoyXs",
        "colab_type": "code",
        "colab": {}
      },
      "source": [
        "# adding new cols to both datasets\n",
        "red['type'] = 1\n",
        "white['type'] = 0\n",
        "\n",
        "both = red.append(white, ignore_index=True)\n",
        "both = both.reindex(np.random.permutation(both.index))\n",
        "# x = both.iloc[:, 0:11]\n",
        "# y = np.ravel(both.type)\n",
        "# print(both.type)\n",
        "# print(both)\n",
        "# print(x)\n",
        "# print(y)\n",
        "\n",
        "# splitting into train, test, validate\n",
        "# x_train, x_test, y_train, y_test = train_test_split( \n",
        "          #  x, y, test_size = 0.34, random_state = 45)\n",
        "          \n",
        "# frac=1 instructs sample() function to return all (100% or fraction = 1.0) rows\n",
        "train, validate, test = np.split(both.sample(frac=1), [int(.6*len(both)), int(.8*len(both))])"
      ],
      "execution_count": 0,
      "outputs": []
    },
    {
      "cell_type": "code",
      "metadata": {
        "id": "KAJCJgojoz2O",
        "colab_type": "code",
        "colab": {}
      },
      "source": [
        "# splitting each datasets into the features and labels\n",
        "# x_train = train.iloc[:, 0:11]\n",
        "x_train = train.drop('quality', axis=1)\n",
        "x_train_scaled = preprocessing.scale(x_train)\n",
        "# y_train = train['quality']\n",
        "y_train = train.quality\n",
        "\n",
        "# x_validate = validate.iloc[:, 0:11]\n",
        "x_validate = validate.drop('quality', axis=1)\n",
        "x_validate_scaled = preprocessing.scale(x_validate)\n",
        "# y_validate = validate['quality']\n",
        "y_validate = validate.quality\n",
        "\n",
        "# x_test = test.iloc[:, 0:11]\n",
        "x_test = test.drop('quality', axis=1)\n",
        "x_test_scaled = preprocessing.scale(x_test)\n",
        "# y_test = test['quality']\n",
        "y_test = test.quality\n",
        "# both['quality'].unique()"
      ],
      "execution_count": 0,
      "outputs": []
    },
    {
      "cell_type": "code",
      "metadata": {
        "id": "re5pEzwjpGO0",
        "colab_type": "code",
        "colab": {}
      },
      "source": [
        "# Build model\n",
        "\n",
        "model = keras.models.Sequential() # Initialize constructor\n",
        "model.add(keras.layers.Flatten(input_shape=(12,))) # Input layer\n",
        "model.add(keras.layers.Dense(30, activation='relu')) # Hidden layer 1\n",
        "# model.add(keras.layers.Dense(32, activation='relu')) # Hidden layer 2\n",
        "# model.add(keras.layers.Dropout(0.2))\n",
        "model.add(keras.layers.Dense(10, activation='softmax')) # Output layer\n",
        "\n",
        "# model = keras.models.Sequential()\n",
        "# model.add(keras.layers.Dense(12, activation ='relu', input_shape =(11, ))) \n",
        "# model.add(keras.layers.Dense(9, activation ='relu')) \n",
        "# model.add(keras.layers.Dense(1, activation ='sigmoid')) \n",
        "\n",
        "# model.summary()\n",
        "# model.get_config()\n",
        "model.compile(optimizer=keras.optimizers.Adagrad(learning_rate=0.06),\n",
        "              loss = tf.keras.losses.SparseCategoricalCrossentropy(from_logits=True), metrics=['accuracy'])"
      ],
      "execution_count": 0,
      "outputs": []
    },
    {
      "cell_type": "code",
      "metadata": {
        "id": "kcbsAdbrpIlk",
        "colab_type": "code",
        "outputId": "02f368d7-3279-4a2d-8582-4095b3e56e29",
        "colab": {
          "base_uri": "https://localhost:8080/",
          "height": 374
        }
      },
      "source": [
        "# Train model\n",
        "\n",
        "model.fit(x_train_scaled, y_train, epochs=10, batch_size=5, verbose=1)"
      ],
      "execution_count": 0,
      "outputs": [
        {
          "output_type": "stream",
          "text": [
            "Epoch 1/10\n",
            "780/780 [==============================] - 1s 1ms/step - loss: 1.7205 - accuracy: 0.5169\n",
            "Epoch 2/10\n",
            "780/780 [==============================] - 1s 1ms/step - loss: 1.7197 - accuracy: 0.5180\n",
            "Epoch 3/10\n",
            "780/780 [==============================] - 1s 1ms/step - loss: 1.7191 - accuracy: 0.5162\n",
            "Epoch 4/10\n",
            "780/780 [==============================] - 1s 1ms/step - loss: 1.7185 - accuracy: 0.5185\n",
            "Epoch 5/10\n",
            "780/780 [==============================] - 1s 1ms/step - loss: 1.7177 - accuracy: 0.5185\n",
            "Epoch 6/10\n",
            "780/780 [==============================] - 1s 1ms/step - loss: 1.7176 - accuracy: 0.5208\n",
            "Epoch 7/10\n",
            "780/780 [==============================] - 1s 1ms/step - loss: 1.7167 - accuracy: 0.5187\n",
            "Epoch 8/10\n",
            "780/780 [==============================] - 1s 1ms/step - loss: 1.7155 - accuracy: 0.5221\n",
            "Epoch 9/10\n",
            "780/780 [==============================] - 1s 1ms/step - loss: 1.7149 - accuracy: 0.5228\n",
            "Epoch 10/10\n",
            "780/780 [==============================] - 1s 1ms/step - loss: 1.7141 - accuracy: 0.5228\n"
          ],
          "name": "stdout"
        },
        {
          "output_type": "execute_result",
          "data": {
            "text/plain": [
              "<tensorflow.python.keras.callbacks.History at 0x7f5e6d679ef0>"
            ]
          },
          "metadata": {
            "tags": []
          },
          "execution_count": 61
        }
      ]
    },
    {
      "cell_type": "code",
      "metadata": {
        "id": "8Y5czp8Eylt2",
        "colab_type": "code",
        "outputId": "41117c9b-8c53-4322-aa03-189884c0f717",
        "colab": {
          "base_uri": "https://localhost:8080/",
          "height": 51
        }
      },
      "source": [
        "# Evaluate validation dataset\n",
        "\n",
        "valid_loss, valid_acc = model.evaluate(x_validate, y_validate)\n",
        "print(\"Validation loss {}\", valid_loss, \"Validation accuracy {}\", valid_acc*100)"
      ],
      "execution_count": 0,
      "outputs": [
        {
          "output_type": "stream",
          "text": [
            "41/41 [==============================] - 0s 1ms/step - loss: 2.4611 - accuracy: 0.0000e+00\n",
            "Validation loss {} 2.4611058235168457 Validation accuracy {} 0.0\n"
          ],
          "name": "stdout"
        }
      ]
    }
  ]
}